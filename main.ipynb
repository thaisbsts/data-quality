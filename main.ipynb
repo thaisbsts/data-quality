{
 "cells": [
  {
   "cell_type": "code",
   "execution_count": 6,
   "metadata": {},
   "outputs": [
    {
     "name": "stderr",
     "output_type": "stream",
     "text": [
      "c:\\Users\\luisf\\OneDrive\\Área de Trabalho\\data-quality\\data-quality\\data_quality.py:43: FutureWarning: \n",
      "\n",
      "Passing `palette` without assigning `hue` is deprecated and will be removed in v0.14.0. Assign the `y` variable to `hue` and set `legend=False` for the same effect.\n",
      "\n",
      "c:\\Users\\luisf\\OneDrive\\Área de Trabalho\\data-quality\\data-quality\\data_quality.py:45: UserWarning: FigureCanvasAgg is non-interactive, and thus cannot be shown\n",
      "c:\\Users\\luisf\\OneDrive\\Área de Trabalho\\data-quality\\data-quality\\data_quality.py:43: FutureWarning: \n",
      "\n",
      "Passing `palette` without assigning `hue` is deprecated and will be removed in v0.14.0. Assign the `y` variable to `hue` and set `legend=False` for the same effect.\n",
      "\n",
      "c:\\Users\\luisf\\OneDrive\\Área de Trabalho\\data-quality\\data-quality\\data_quality.py:45: UserWarning: FigureCanvasAgg is non-interactive, and thus cannot be shown\n",
      "c:\\Users\\luisf\\OneDrive\\Área de Trabalho\\data-quality\\data-quality\\data_quality.py:54: UserWarning: FigureCanvasAgg is non-interactive, and thus cannot be shown\n",
      "c:\\Users\\luisf\\OneDrive\\Área de Trabalho\\data-quality\\data-quality\\data_quality.py:54: UserWarning: FigureCanvasAgg is non-interactive, and thus cannot be shown\n",
      "c:\\Users\\luisf\\OneDrive\\Área de Trabalho\\data-quality\\data-quality\\data_quality.py:54: UserWarning: FigureCanvasAgg is non-interactive, and thus cannot be shown\n",
      "c:\\Users\\luisf\\OneDrive\\Área de Trabalho\\data-quality\\data-quality\\data_quality.py:54: UserWarning: FigureCanvasAgg is non-interactive, and thus cannot be shown\n",
      "c:\\Users\\luisf\\OneDrive\\Área de Trabalho\\data-quality\\data-quality\\data_quality.py:54: UserWarning: FigureCanvasAgg is non-interactive, and thus cannot be shown\n",
      "c:\\Users\\luisf\\OneDrive\\Área de Trabalho\\data-quality\\data-quality\\data_quality.py:54: UserWarning: FigureCanvasAgg is non-interactive, and thus cannot be shown\n",
      "c:\\Users\\luisf\\OneDrive\\Área de Trabalho\\data-quality\\data-quality\\data_quality.py:54: UserWarning: FigureCanvasAgg is non-interactive, and thus cannot be shown\n",
      "c:\\Users\\luisf\\OneDrive\\Área de Trabalho\\data-quality\\data-quality\\data_quality.py:54: UserWarning: FigureCanvasAgg is non-interactive, and thus cannot be shown\n",
      "c:\\Users\\luisf\\OneDrive\\Área de Trabalho\\data-quality\\data-quality\\data_quality.py:54: UserWarning: FigureCanvasAgg is non-interactive, and thus cannot be shown\n",
      "c:\\Users\\luisf\\OneDrive\\Área de Trabalho\\data-quality\\data-quality\\data_quality.py:54: UserWarning: FigureCanvasAgg is non-interactive, and thus cannot be shown\n",
      "c:\\Users\\luisf\\OneDrive\\Área de Trabalho\\data-quality\\data-quality\\data_quality.py:60: FutureWarning: \n",
      "\n",
      "Passing `palette` without assigning `hue` is deprecated and will be removed in v0.14.0. Assign the `x` variable to `hue` and set `legend=False` for the same effect.\n",
      "\n",
      "c:\\Users\\luisf\\OneDrive\\Área de Trabalho\\data-quality\\data-quality\\data_quality.py:63: UserWarning: FigureCanvasAgg is non-interactive, and thus cannot be shown\n"
     ]
    },
    {
     "data": {
      "application/vnd.jupyter.widget-view+json": {
       "model_id": "34a85afe93f146ff9e4bfe7e199fe5f9",
       "version_major": 2,
       "version_minor": 0
      },
      "text/plain": [
       "Summarize dataset:   0%|          | 0/5 [00:00<?, ?it/s]"
      ]
     },
     "metadata": {},
     "output_type": "display_data"
    },
    {
     "data": {
      "application/vnd.jupyter.widget-view+json": {
       "model_id": "e2bd024112294c6982ae3f366ce955f5",
       "version_major": 2,
       "version_minor": 0
      },
      "text/plain": [
       "Generate report structure:   0%|          | 0/1 [00:00<?, ?it/s]"
      ]
     },
     "metadata": {},
     "output_type": "display_data"
    }
   ],
   "source": [
    "import pandas as pd\n",
    "import ydata_profiling \n",
    "from data_quality import MyDataQuality\n",
    "from ydata_profiling import ProfileReport\n",
    "\n",
    "\n",
    "df = pd.read_csv('exercise_angles.csv')\n",
    "\n",
    "# Criando a instância da classe MyDataQuality\n",
    "dq = MyDataQuality({})\n",
    "\n",
    "# Obtendo descrições e gráficos\n",
    "dq.get_nulos(df)\n",
    "dq.get_unicos(df)\n",
    "dq.get_descricoes(df)\n",
    "dq.get_graf_categoricas(df)\n",
    "dq.get_graf_numericas(df)\n",
    "dq.get_graf_nulos(df)\n",
    "\n",
    "# Gerando o relatório completo com ydata-profiling\n",
    "dq.generate_ydata_profile(df)\n",
    "\n"
   ]
  }
 ],
 "metadata": {
  "kernelspec": {
   "display_name": "Python 3",
   "language": "python",
   "name": "python3"
  },
  "language_info": {
   "codemirror_mode": {
    "name": "ipython",
    "version": 3
   },
   "file_extension": ".py",
   "mimetype": "text/x-python",
   "name": "python",
   "nbconvert_exporter": "python",
   "pygments_lexer": "ipython3",
   "version": "3.11.9"
  }
 },
 "nbformat": 4,
 "nbformat_minor": 2
}
